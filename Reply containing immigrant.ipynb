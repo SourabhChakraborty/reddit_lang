{
 "cells": [
  {
   "cell_type": "markdown",
   "metadata": {},
   "source": [
    "## Tasks:\n",
    "\n",
    "- Import comment/reply data\n",
    "- Determine whether each comment contains \"immigrant\"/\"immigrat\" or not\n",
    "- Determine whether each comment is a top-level or second-level comment, and store second-level comments with their corresponding top-level comments\n",
    "- Show statistics\n",
    "- Determine whether each comment was made by a Trump supporter, Bernie/Hillary supporter, or neither\n",
    "- Show statistics"
   ]
  },
  {
   "cell_type": "code",
   "execution_count": 12,
   "metadata": {},
   "outputs": [],
   "source": [
    "import json\n",
    "import csv\n",
    "import pandas as pd\n",
    "import numpy as np\n",
    "\n",
    "from IPython.display import display, HTML"
   ]
  },
  {
   "cell_type": "markdown",
   "metadata": {},
   "source": [
    "## Preprocess comments"
   ]
  },
  {
   "cell_type": "code",
   "execution_count": 7,
   "metadata": {},
   "outputs": [],
   "source": [
    "def remove_bad_comments(chunk):\n",
    "    chunk_notna = chunk.loc[chunk['body'].notna()]\n",
    "    comments = chunk_notna['body'].values\n",
    "    \n",
    "    good_indices = [j for j in range(len(comments)) if comments[j] != '[deleted]' \n",
    "                    and comments[j] != '[removed]'\n",
    "                    and 'thank you for participating' not in comments[j].lower()]\n",
    "        \n",
    "    return (chunk_notna.iloc[good_indices])"
   ]
  },
  {
   "cell_type": "code",
   "execution_count": 2,
   "metadata": {},
   "outputs": [],
   "source": [
    "# Contains \"immigrant\" or other forms of the word\n",
    "def contains_immigrant_narrow(txt):\n",
    "    txt_lower = txt.lower()\n",
    "    return \"immigrant\" in txt_lower or \"immigrat\" in txt_lower"
   ]
  },
  {
   "cell_type": "code",
   "execution_count": 8,
   "metadata": {},
   "outputs": [
    {
     "name": "stdout",
     "output_type": "stream",
     "text": [
      "500000\n",
      "1000000\n",
      "1500000\n",
      "2000000\n",
      "2500000\n",
      "3000000\n",
      "3500000\n",
      "4000000\n",
      "4500000\n",
      "5000000\n",
      "5500000\n",
      "6000000\n",
      "6500000\n",
      "7000000\n",
      "7500000\n",
      "8000000\n",
      "8500000\n",
      "9000000\n",
      "9500000\n",
      "10000000\n",
      "10500000\n",
      "11000000\n",
      "11500000\n",
      "12000000\n",
      "12500000\n",
      "13000000\n",
      "13500000\n",
      "14000000\n",
      "14500000\n",
      "15000000\n",
      "15500000\n",
      "16000000\n",
      "16500000\n",
      "17000000\n",
      "17500000\n",
      "18000000\n",
      "18500000\n",
      "19000000\n",
      "19500000\n",
      "20000000\n",
      "20500000\n",
      "21000000\n",
      "21500000\n",
      "22000000\n",
      "22500000\n",
      "23000000\n",
      "23500000\n"
     ]
    }
   ],
   "source": [
    "chunk_size = 5 * (10 ** 5)\n",
    "iter_num = 0\n",
    "comments_filename = \"../sample_data/politics_comments_2015_2016_2.csv\"\n",
    "out_filename = \"stored_variables/contains_immigrant_comments.csv\"\n",
    "\n",
    "for chunk in pd.read_csv(comments_filename, \n",
    "                         header=None, \n",
    "                         names = ['author', 'subreddit', 'body', 'score', 'created_dt', 'link_id', 'parent_id', 'id'],\n",
    "                         usecols = ['author', 'body', 'link_id', 'parent_id', 'id'],\n",
    "                         index_col = False,\n",
    "                         chunksize = chunk_size\n",
    "                         ):\n",
    "    iter_num += 1\n",
    "    chunk_valid = remove_bad_comments(chunk)\n",
    "    comment_text = chunk_valid['body'].values\n",
    "    contains_immigrant_col = [contains_immigrant_narrow(t) for t in comment_text]\n",
    "    chunk_contains = chunk_valid.drop(columns=['body'])\n",
    "    chunk_contains['contains_imm'] = contains_immigrant_col\n",
    "    \n",
    "    file1 = open(out_filename, 'a')\n",
    "    file1.write(chunk_contains.to_csv(header=False, index=False))\n",
    "    file1.close()\n",
    "    \n",
    "    print(iter_num * chunk_size)"
   ]
  },
  {
   "cell_type": "markdown",
   "metadata": {},
   "source": [
    "## Preprocess user groups \n",
    "\n",
    "(Trump supporters, Sanders supporters, etc)"
   ]
  },
  {
   "cell_type": "code",
   "execution_count": 77,
   "metadata": {},
   "outputs": [],
   "source": [
    "partisan_data = pd.read_csv(\"../sample_data/politics_auth_partisan.csv\", \n",
    "                            header=None, \n",
    "                            names = ['author', 'num_trump', 'num_sanders', 'num_clinton'],\n",
    "                            index_col = False)"
   ]
  },
  {
   "cell_type": "code",
   "execution_count": 78,
   "metadata": {},
   "outputs": [],
   "source": [
    "df_authors = partisan_data['author'].values\n",
    "df_trump = partisan_data['num_trump'].values\n",
    "df_sanders = partisan_data['num_sanders'].values\n",
    "df_clinton = partisan_data['num_clinton'].values\n",
    "\n",
    "num_sanders = {df_authors[i]:df_sanders[i] for i in range(len(df_authors))}\n",
    "num_trump = {df_authors[i]:df_trump[i] for i in range(len(df_authors))}\n",
    "num_clinton = {df_authors[i]:df_clinton[i] for i in range(len(df_authors))}"
   ]
  },
  {
   "cell_type": "code",
   "execution_count": 89,
   "metadata": {},
   "outputs": [],
   "source": [
    "comment_threshold = 5\n",
    "\n",
    "sanders_user_indices = [i for i in range(len(df_authors)) if num_sanders[df_authors[i]] >= comment_threshold\n",
    "                                 and num_trump[df_authors[i]] == 0 and num_clinton[df_authors[i]] == 0]\n",
    "trump_user_indices = [i for i in range(len(df_authors)) if num_trump[df_authors[i]] >= comment_threshold\n",
    "                               and num_sanders[df_authors[i]] == 0 and num_clinton[df_authors[i]] == 0]\n",
    "clinton_user_indices = [i for i in range(len(df_authors)) if num_clinton[df_authors[i]] >= comment_threshold\n",
    "                               and num_sanders[df_authors[i]] == 0 and num_trump[df_authors[i]] == 0]\n",
    "none_user_indices = [i for i in range(len(df_authors)) if num_sanders[df_authors[i]] == 0 \n",
    "                              and num_trump[df_authors[i]]  == 0 and num_clinton[df_authors[i]] == 0]"
   ]
  },
  {
   "cell_type": "code",
   "execution_count": 91,
   "metadata": {},
   "outputs": [],
   "source": [
    "trump_users = set([df_authors[i] for i in trump_user_indices])\n",
    "sanders_users = set([df_authors[i] for i in sanders_user_indices])"
   ]
  },
  {
   "cell_type": "markdown",
   "metadata": {},
   "source": [
    "## Structure by comments and replies"
   ]
  },
  {
   "cell_type": "code",
   "execution_count": 21,
   "metadata": {},
   "outputs": [],
   "source": [
    "toplevel_comments = None"
   ]
  },
  {
   "cell_type": "code",
   "execution_count": 22,
   "metadata": {},
   "outputs": [
    {
     "name": "stdout",
     "output_type": "stream",
     "text": [
      "5000000\n",
      "10000000\n",
      "15000000\n",
      "20000000\n",
      "25000000\n"
     ]
    }
   ],
   "source": [
    "chunk_size = 5 * (10 ** 6)\n",
    "iter_num = 0\n",
    "preprocessed_filename = \"stored_variables/contains_immigrant_comments.csv\"\n",
    "\n",
    "for chunk in pd.read_csv(preprocessed_filename, \n",
    "                         header=None, \n",
    "                         names = ['author', 'link_id', 'parent_id', 'id', 'contains_imm'],\n",
    "                         index_col = False,\n",
    "                         chunksize = chunk_size\n",
    "                         ):\n",
    "    iter_num += 1\n",
    "    \n",
    "    chunk_toplevel = chunk.loc[chunk['link_id'] == chunk['parent_id']]\n",
    "    toplevel_comments = pd.concat([toplevel_comments, chunk_toplevel])\n",
    "    \n",
    "    print(iter_num * chunk_size)"
   ]
  },
  {
   "cell_type": "code",
   "execution_count": 26,
   "metadata": {},
   "outputs": [
    {
     "data": {
      "text/html": [
       "<div>\n",
       "<style scoped>\n",
       "    .dataframe tbody tr th:only-of-type {\n",
       "        vertical-align: middle;\n",
       "    }\n",
       "\n",
       "    .dataframe tbody tr th {\n",
       "        vertical-align: top;\n",
       "    }\n",
       "\n",
       "    .dataframe thead th {\n",
       "        text-align: right;\n",
       "    }\n",
       "</style>\n",
       "<table border=\"1\" class=\"dataframe\">\n",
       "  <thead>\n",
       "    <tr style=\"text-align: right;\">\n",
       "      <th></th>\n",
       "      <th>author</th>\n",
       "      <th>link_id</th>\n",
       "      <th>parent_id</th>\n",
       "      <th>id</th>\n",
       "      <th>contains_imm</th>\n",
       "    </tr>\n",
       "  </thead>\n",
       "  <tbody>\n",
       "    <tr>\n",
       "      <th>1</th>\n",
       "      <td>MrXhin</td>\n",
       "      <td>t3_2xf5nu</td>\n",
       "      <td>t3_2xf5nu</td>\n",
       "      <td>cp0cr4a</td>\n",
       "      <td>False</td>\n",
       "    </tr>\n",
       "    <tr>\n",
       "      <th>8</th>\n",
       "      <td>bilsonM</td>\n",
       "      <td>t3_2xhrex</td>\n",
       "      <td>t3_2xhrex</td>\n",
       "      <td>cp0crhg</td>\n",
       "      <td>False</td>\n",
       "    </tr>\n",
       "    <tr>\n",
       "      <th>12</th>\n",
       "      <td>grewapair</td>\n",
       "      <td>t3_2xgj64</td>\n",
       "      <td>t3_2xgj64</td>\n",
       "      <td>cp0crwn</td>\n",
       "      <td>False</td>\n",
       "    </tr>\n",
       "    <tr>\n",
       "      <th>17</th>\n",
       "      <td>IronTek</td>\n",
       "      <td>t3_2xh4a8</td>\n",
       "      <td>t3_2xh4a8</td>\n",
       "      <td>cp0csga</td>\n",
       "      <td>False</td>\n",
       "    </tr>\n",
       "    <tr>\n",
       "      <th>18</th>\n",
       "      <td>JumpingJazzJam</td>\n",
       "      <td>t3_2xi5pn</td>\n",
       "      <td>t3_2xi5pn</td>\n",
       "      <td>cp0csiu</td>\n",
       "      <td>False</td>\n",
       "    </tr>\n",
       "    <tr>\n",
       "      <th>...</th>\n",
       "      <td>...</td>\n",
       "      <td>...</td>\n",
       "      <td>...</td>\n",
       "      <td>...</td>\n",
       "      <td>...</td>\n",
       "    </tr>\n",
       "    <tr>\n",
       "      <th>21566894</th>\n",
       "      <td>JumpingJazzJam</td>\n",
       "      <td>t3_2xid7j</td>\n",
       "      <td>t3_2xid7j</td>\n",
       "      <td>cp0cn9v</td>\n",
       "      <td>False</td>\n",
       "    </tr>\n",
       "    <tr>\n",
       "      <th>21566902</th>\n",
       "      <td>MrXhin</td>\n",
       "      <td>t3_2xhctk</td>\n",
       "      <td>t3_2xhctk</td>\n",
       "      <td>cp0co2r</td>\n",
       "      <td>False</td>\n",
       "    </tr>\n",
       "    <tr>\n",
       "      <th>21566905</th>\n",
       "      <td>rudieboy</td>\n",
       "      <td>t3_2xh4a8</td>\n",
       "      <td>t3_2xh4a8</td>\n",
       "      <td>cp0cp17</td>\n",
       "      <td>False</td>\n",
       "    </tr>\n",
       "    <tr>\n",
       "      <th>21566909</th>\n",
       "      <td>simjanes2k</td>\n",
       "      <td>t3_2xhrex</td>\n",
       "      <td>t3_2xhrex</td>\n",
       "      <td>cp0cpe3</td>\n",
       "      <td>False</td>\n",
       "    </tr>\n",
       "    <tr>\n",
       "      <th>21566911</th>\n",
       "      <td>BoogsterSU2</td>\n",
       "      <td>t3_2xg9et</td>\n",
       "      <td>t3_2xg9et</td>\n",
       "      <td>cp0cpqi</td>\n",
       "      <td>False</td>\n",
       "    </tr>\n",
       "  </tbody>\n",
       "</table>\n",
       "<p>3821312 rows × 5 columns</p>\n",
       "</div>"
      ],
      "text/plain": [
       "                  author    link_id  parent_id       id  contains_imm\n",
       "1                 MrXhin  t3_2xf5nu  t3_2xf5nu  cp0cr4a         False\n",
       "8                bilsonM  t3_2xhrex  t3_2xhrex  cp0crhg         False\n",
       "12             grewapair  t3_2xgj64  t3_2xgj64  cp0crwn         False\n",
       "17               IronTek  t3_2xh4a8  t3_2xh4a8  cp0csga         False\n",
       "18        JumpingJazzJam  t3_2xi5pn  t3_2xi5pn  cp0csiu         False\n",
       "...                  ...        ...        ...      ...           ...\n",
       "21566894  JumpingJazzJam  t3_2xid7j  t3_2xid7j  cp0cn9v         False\n",
       "21566902          MrXhin  t3_2xhctk  t3_2xhctk  cp0co2r         False\n",
       "21566905        rudieboy  t3_2xh4a8  t3_2xh4a8  cp0cp17         False\n",
       "21566909      simjanes2k  t3_2xhrex  t3_2xhrex  cp0cpe3         False\n",
       "21566911     BoogsterSU2  t3_2xg9et  t3_2xg9et  cp0cpqi         False\n",
       "\n",
       "[3821312 rows x 5 columns]"
      ]
     },
     "metadata": {},
     "output_type": "display_data"
    },
    {
     "name": "stdout",
     "output_type": "stream",
     "text": [
      "24845\n"
     ]
    }
   ],
   "source": [
    "display(toplevel_comments)\n",
    "print(toplevel_comments['contains_imm'].values.sum())"
   ]
  },
  {
   "cell_type": "code",
   "execution_count": 38,
   "metadata": {},
   "outputs": [],
   "source": [
    "toplevel_ids = set(toplevel_comments['id'].values)"
   ]
  },
  {
   "cell_type": "code",
   "execution_count": 39,
   "metadata": {},
   "outputs": [],
   "source": [
    "level2_comments = None"
   ]
  },
  {
   "cell_type": "code",
   "execution_count": 40,
   "metadata": {},
   "outputs": [
    {
     "name": "stdout",
     "output_type": "stream",
     "text": [
      "5000000\n",
      "10000000\n",
      "15000000\n",
      "20000000\n",
      "25000000\n"
     ]
    }
   ],
   "source": [
    "chunk_size = 5 * (10 ** 6)\n",
    "iter_num = 0\n",
    "preprocessed_filename = \"stored_variables/contains_immigrant_comments.csv\"\n",
    "\n",
    "for chunk in pd.read_csv(preprocessed_filename, \n",
    "                         header=None, \n",
    "                         names = ['author', 'link_id', 'parent_id', 'id', 'contains_imm'],\n",
    "                         index_col = False,\n",
    "                         chunksize = chunk_size\n",
    "                         ):\n",
    "    iter_num += 1\n",
    "    \n",
    "    parent_ids = [s[3:] for s in chunk['parent_id'].values]\n",
    "    is_level2 = [i in toplevel_ids for i in parent_ids]\n",
    "    \n",
    "    chunk_level2 = chunk.iloc[is_level2]\n",
    "    level2_comments = pd.concat([level2_comments, chunk_level2])\n",
    "    \n",
    "    print(iter_num * chunk_size)"
   ]
  },
  {
   "cell_type": "code",
   "execution_count": 41,
   "metadata": {},
   "outputs": [
    {
     "data": {
      "text/html": [
       "<div>\n",
       "<style scoped>\n",
       "    .dataframe tbody tr th:only-of-type {\n",
       "        vertical-align: middle;\n",
       "    }\n",
       "\n",
       "    .dataframe tbody tr th {\n",
       "        vertical-align: top;\n",
       "    }\n",
       "\n",
       "    .dataframe thead th {\n",
       "        text-align: right;\n",
       "    }\n",
       "</style>\n",
       "<table border=\"1\" class=\"dataframe\">\n",
       "  <thead>\n",
       "    <tr style=\"text-align: right;\">\n",
       "      <th></th>\n",
       "      <th>author</th>\n",
       "      <th>link_id</th>\n",
       "      <th>parent_id</th>\n",
       "      <th>id</th>\n",
       "      <th>contains_imm</th>\n",
       "    </tr>\n",
       "  </thead>\n",
       "  <tbody>\n",
       "    <tr>\n",
       "      <th>2</th>\n",
       "      <td>sickofthisshit</td>\n",
       "      <td>t3_2xiaj4</td>\n",
       "      <td>t1_cp0c2sz</td>\n",
       "      <td>cp0cr54</td>\n",
       "      <td>False</td>\n",
       "    </tr>\n",
       "    <tr>\n",
       "      <th>19</th>\n",
       "      <td>gtfooh1011</td>\n",
       "      <td>t3_2xid7j</td>\n",
       "      <td>t1_cp0ci37</td>\n",
       "      <td>cp0csp8</td>\n",
       "      <td>False</td>\n",
       "    </tr>\n",
       "    <tr>\n",
       "      <th>30</th>\n",
       "      <td>exixx</td>\n",
       "      <td>t3_2xh4a8</td>\n",
       "      <td>t1_cp0alm1</td>\n",
       "      <td>cp0cumz</td>\n",
       "      <td>False</td>\n",
       "    </tr>\n",
       "    <tr>\n",
       "      <th>33</th>\n",
       "      <td>pamthecowfarmier</td>\n",
       "      <td>t3_2xhrex</td>\n",
       "      <td>t1_cp0b5ao</td>\n",
       "      <td>cp0cuvz</td>\n",
       "      <td>False</td>\n",
       "    </tr>\n",
       "    <tr>\n",
       "      <th>47</th>\n",
       "      <td>kikowatzy</td>\n",
       "      <td>t3_2xhn52</td>\n",
       "      <td>t1_cp07r0e</td>\n",
       "      <td>cp0cwhf</td>\n",
       "      <td>False</td>\n",
       "    </tr>\n",
       "    <tr>\n",
       "      <th>...</th>\n",
       "      <td>...</td>\n",
       "      <td>...</td>\n",
       "      <td>...</td>\n",
       "      <td>...</td>\n",
       "      <td>...</td>\n",
       "    </tr>\n",
       "    <tr>\n",
       "      <th>21566889</th>\n",
       "      <td>kikowatzy</td>\n",
       "      <td>t3_2xhrex</td>\n",
       "      <td>t1_cp09gmy</td>\n",
       "      <td>cp0cmil</td>\n",
       "      <td>False</td>\n",
       "    </tr>\n",
       "    <tr>\n",
       "      <th>21566896</th>\n",
       "      <td>Temp237</td>\n",
       "      <td>t3_2xh4a8</td>\n",
       "      <td>t1_cp08uy6</td>\n",
       "      <td>cp0cne8</td>\n",
       "      <td>False</td>\n",
       "    </tr>\n",
       "    <tr>\n",
       "      <th>21566904</th>\n",
       "      <td>RockFourFour</td>\n",
       "      <td>t3_2xfe5d</td>\n",
       "      <td>t1_coztar4</td>\n",
       "      <td>cp0cows</td>\n",
       "      <td>False</td>\n",
       "    </tr>\n",
       "    <tr>\n",
       "      <th>21566910</th>\n",
       "      <td>rsc2</td>\n",
       "      <td>t3_2xhrex</td>\n",
       "      <td>t1_cp0baoz</td>\n",
       "      <td>cp0cpog</td>\n",
       "      <td>False</td>\n",
       "    </tr>\n",
       "    <tr>\n",
       "      <th>21566917</th>\n",
       "      <td>CIA-TANGO</td>\n",
       "      <td>t3_2xgkvd</td>\n",
       "      <td>t1_cp07lao</td>\n",
       "      <td>cp0cqg2</td>\n",
       "      <td>False</td>\n",
       "    </tr>\n",
       "  </tbody>\n",
       "</table>\n",
       "<p>3554757 rows × 5 columns</p>\n",
       "</div>"
      ],
      "text/plain": [
       "                    author    link_id   parent_id       id  contains_imm\n",
       "2           sickofthisshit  t3_2xiaj4  t1_cp0c2sz  cp0cr54         False\n",
       "19              gtfooh1011  t3_2xid7j  t1_cp0ci37  cp0csp8         False\n",
       "30                   exixx  t3_2xh4a8  t1_cp0alm1  cp0cumz         False\n",
       "33        pamthecowfarmier  t3_2xhrex  t1_cp0b5ao  cp0cuvz         False\n",
       "47               kikowatzy  t3_2xhn52  t1_cp07r0e  cp0cwhf         False\n",
       "...                    ...        ...         ...      ...           ...\n",
       "21566889         kikowatzy  t3_2xhrex  t1_cp09gmy  cp0cmil         False\n",
       "21566896           Temp237  t3_2xh4a8  t1_cp08uy6  cp0cne8         False\n",
       "21566904      RockFourFour  t3_2xfe5d  t1_coztar4  cp0cows         False\n",
       "21566910              rsc2  t3_2xhrex  t1_cp0baoz  cp0cpog         False\n",
       "21566917         CIA-TANGO  t3_2xgkvd  t1_cp07lao  cp0cqg2         False\n",
       "\n",
       "[3554757 rows x 5 columns]"
      ]
     },
     "metadata": {},
     "output_type": "display_data"
    },
    {
     "name": "stdout",
     "output_type": "stream",
     "text": [
      "22992\n"
     ]
    }
   ],
   "source": [
    "display(level2_comments)\n",
    "print(level2_comments['contains_imm'].values.sum())"
   ]
  },
  {
   "cell_type": "code",
   "execution_count": 42,
   "metadata": {},
   "outputs": [],
   "source": [
    "level2_comments['parent_id_mod'] = [s[3:] for s in level2_comments['parent_id'].values]"
   ]
  },
  {
   "cell_type": "code",
   "execution_count": 43,
   "metadata": {},
   "outputs": [],
   "source": [
    "toplevel_comments = toplevel_comments.drop(columns=['link_id', 'parent_id'])\n",
    "level2_comments = level2_comments.drop(columns=['link_id','parent_id'])"
   ]
  },
  {
   "cell_type": "code",
   "execution_count": 45,
   "metadata": {},
   "outputs": [
    {
     "data": {
      "text/html": [
       "<div>\n",
       "<style scoped>\n",
       "    .dataframe tbody tr th:only-of-type {\n",
       "        vertical-align: middle;\n",
       "    }\n",
       "\n",
       "    .dataframe tbody tr th {\n",
       "        vertical-align: top;\n",
       "    }\n",
       "\n",
       "    .dataframe thead th {\n",
       "        text-align: right;\n",
       "    }\n",
       "</style>\n",
       "<table border=\"1\" class=\"dataframe\">\n",
       "  <thead>\n",
       "    <tr style=\"text-align: right;\">\n",
       "      <th></th>\n",
       "      <th>author</th>\n",
       "      <th>id</th>\n",
       "      <th>contains_imm</th>\n",
       "    </tr>\n",
       "  </thead>\n",
       "  <tbody>\n",
       "    <tr>\n",
       "      <th>1</th>\n",
       "      <td>MrXhin</td>\n",
       "      <td>cp0cr4a</td>\n",
       "      <td>False</td>\n",
       "    </tr>\n",
       "    <tr>\n",
       "      <th>8</th>\n",
       "      <td>bilsonM</td>\n",
       "      <td>cp0crhg</td>\n",
       "      <td>False</td>\n",
       "    </tr>\n",
       "    <tr>\n",
       "      <th>12</th>\n",
       "      <td>grewapair</td>\n",
       "      <td>cp0crwn</td>\n",
       "      <td>False</td>\n",
       "    </tr>\n",
       "    <tr>\n",
       "      <th>17</th>\n",
       "      <td>IronTek</td>\n",
       "      <td>cp0csga</td>\n",
       "      <td>False</td>\n",
       "    </tr>\n",
       "    <tr>\n",
       "      <th>18</th>\n",
       "      <td>JumpingJazzJam</td>\n",
       "      <td>cp0csiu</td>\n",
       "      <td>False</td>\n",
       "    </tr>\n",
       "    <tr>\n",
       "      <th>...</th>\n",
       "      <td>...</td>\n",
       "      <td>...</td>\n",
       "      <td>...</td>\n",
       "    </tr>\n",
       "    <tr>\n",
       "      <th>21566894</th>\n",
       "      <td>JumpingJazzJam</td>\n",
       "      <td>cp0cn9v</td>\n",
       "      <td>False</td>\n",
       "    </tr>\n",
       "    <tr>\n",
       "      <th>21566902</th>\n",
       "      <td>MrXhin</td>\n",
       "      <td>cp0co2r</td>\n",
       "      <td>False</td>\n",
       "    </tr>\n",
       "    <tr>\n",
       "      <th>21566905</th>\n",
       "      <td>rudieboy</td>\n",
       "      <td>cp0cp17</td>\n",
       "      <td>False</td>\n",
       "    </tr>\n",
       "    <tr>\n",
       "      <th>21566909</th>\n",
       "      <td>simjanes2k</td>\n",
       "      <td>cp0cpe3</td>\n",
       "      <td>False</td>\n",
       "    </tr>\n",
       "    <tr>\n",
       "      <th>21566911</th>\n",
       "      <td>BoogsterSU2</td>\n",
       "      <td>cp0cpqi</td>\n",
       "      <td>False</td>\n",
       "    </tr>\n",
       "  </tbody>\n",
       "</table>\n",
       "<p>3821312 rows × 3 columns</p>\n",
       "</div>"
      ],
      "text/plain": [
       "                  author       id  contains_imm\n",
       "1                 MrXhin  cp0cr4a         False\n",
       "8                bilsonM  cp0crhg         False\n",
       "12             grewapair  cp0crwn         False\n",
       "17               IronTek  cp0csga         False\n",
       "18        JumpingJazzJam  cp0csiu         False\n",
       "...                  ...      ...           ...\n",
       "21566894  JumpingJazzJam  cp0cn9v         False\n",
       "21566902          MrXhin  cp0co2r         False\n",
       "21566905        rudieboy  cp0cp17         False\n",
       "21566909      simjanes2k  cp0cpe3         False\n",
       "21566911     BoogsterSU2  cp0cpqi         False\n",
       "\n",
       "[3821312 rows x 3 columns]"
      ]
     },
     "metadata": {},
     "output_type": "display_data"
    },
    {
     "data": {
      "text/html": [
       "<div>\n",
       "<style scoped>\n",
       "    .dataframe tbody tr th:only-of-type {\n",
       "        vertical-align: middle;\n",
       "    }\n",
       "\n",
       "    .dataframe tbody tr th {\n",
       "        vertical-align: top;\n",
       "    }\n",
       "\n",
       "    .dataframe thead th {\n",
       "        text-align: right;\n",
       "    }\n",
       "</style>\n",
       "<table border=\"1\" class=\"dataframe\">\n",
       "  <thead>\n",
       "    <tr style=\"text-align: right;\">\n",
       "      <th></th>\n",
       "      <th>author</th>\n",
       "      <th>id</th>\n",
       "      <th>contains_imm</th>\n",
       "      <th>parent_id_mod</th>\n",
       "    </tr>\n",
       "  </thead>\n",
       "  <tbody>\n",
       "    <tr>\n",
       "      <th>2</th>\n",
       "      <td>sickofthisshit</td>\n",
       "      <td>cp0cr54</td>\n",
       "      <td>False</td>\n",
       "      <td>cp0c2sz</td>\n",
       "    </tr>\n",
       "    <tr>\n",
       "      <th>19</th>\n",
       "      <td>gtfooh1011</td>\n",
       "      <td>cp0csp8</td>\n",
       "      <td>False</td>\n",
       "      <td>cp0ci37</td>\n",
       "    </tr>\n",
       "    <tr>\n",
       "      <th>30</th>\n",
       "      <td>exixx</td>\n",
       "      <td>cp0cumz</td>\n",
       "      <td>False</td>\n",
       "      <td>cp0alm1</td>\n",
       "    </tr>\n",
       "    <tr>\n",
       "      <th>33</th>\n",
       "      <td>pamthecowfarmier</td>\n",
       "      <td>cp0cuvz</td>\n",
       "      <td>False</td>\n",
       "      <td>cp0b5ao</td>\n",
       "    </tr>\n",
       "    <tr>\n",
       "      <th>47</th>\n",
       "      <td>kikowatzy</td>\n",
       "      <td>cp0cwhf</td>\n",
       "      <td>False</td>\n",
       "      <td>cp07r0e</td>\n",
       "    </tr>\n",
       "    <tr>\n",
       "      <th>...</th>\n",
       "      <td>...</td>\n",
       "      <td>...</td>\n",
       "      <td>...</td>\n",
       "      <td>...</td>\n",
       "    </tr>\n",
       "    <tr>\n",
       "      <th>21566889</th>\n",
       "      <td>kikowatzy</td>\n",
       "      <td>cp0cmil</td>\n",
       "      <td>False</td>\n",
       "      <td>cp09gmy</td>\n",
       "    </tr>\n",
       "    <tr>\n",
       "      <th>21566896</th>\n",
       "      <td>Temp237</td>\n",
       "      <td>cp0cne8</td>\n",
       "      <td>False</td>\n",
       "      <td>cp08uy6</td>\n",
       "    </tr>\n",
       "    <tr>\n",
       "      <th>21566904</th>\n",
       "      <td>RockFourFour</td>\n",
       "      <td>cp0cows</td>\n",
       "      <td>False</td>\n",
       "      <td>coztar4</td>\n",
       "    </tr>\n",
       "    <tr>\n",
       "      <th>21566910</th>\n",
       "      <td>rsc2</td>\n",
       "      <td>cp0cpog</td>\n",
       "      <td>False</td>\n",
       "      <td>cp0baoz</td>\n",
       "    </tr>\n",
       "    <tr>\n",
       "      <th>21566917</th>\n",
       "      <td>CIA-TANGO</td>\n",
       "      <td>cp0cqg2</td>\n",
       "      <td>False</td>\n",
       "      <td>cp07lao</td>\n",
       "    </tr>\n",
       "  </tbody>\n",
       "</table>\n",
       "<p>3554757 rows × 4 columns</p>\n",
       "</div>"
      ],
      "text/plain": [
       "                    author       id  contains_imm parent_id_mod\n",
       "2           sickofthisshit  cp0cr54         False       cp0c2sz\n",
       "19              gtfooh1011  cp0csp8         False       cp0ci37\n",
       "30                   exixx  cp0cumz         False       cp0alm1\n",
       "33        pamthecowfarmier  cp0cuvz         False       cp0b5ao\n",
       "47               kikowatzy  cp0cwhf         False       cp07r0e\n",
       "...                    ...      ...           ...           ...\n",
       "21566889         kikowatzy  cp0cmil         False       cp09gmy\n",
       "21566896           Temp237  cp0cne8         False       cp08uy6\n",
       "21566904      RockFourFour  cp0cows         False       coztar4\n",
       "21566910              rsc2  cp0cpog         False       cp0baoz\n",
       "21566917         CIA-TANGO  cp0cqg2         False       cp07lao\n",
       "\n",
       "[3554757 rows x 4 columns]"
      ]
     },
     "metadata": {},
     "output_type": "display_data"
    }
   ],
   "source": [
    "display(toplevel_comments)\n",
    "display(level2_comments)"
   ]
  },
  {
   "cell_type": "code",
   "execution_count": 47,
   "metadata": {},
   "outputs": [],
   "source": [
    "toplevel_parent = toplevel_comments.rename(columns={'author':'parent_author', \n",
    "                                                    'id':'parents_id', 'contains_imm':'parent_contains_imm'})"
   ]
  },
  {
   "cell_type": "code",
   "execution_count": 50,
   "metadata": {},
   "outputs": [],
   "source": [
    "matched_comments = \\\n",
    "toplevel_parent.merge(level2_comments, how='right', left_on='parents_id', right_on='parent_id_mod')"
   ]
  },
  {
   "cell_type": "code",
   "execution_count": 51,
   "metadata": {},
   "outputs": [
    {
     "data": {
      "text/html": [
       "<div>\n",
       "<style scoped>\n",
       "    .dataframe tbody tr th:only-of-type {\n",
       "        vertical-align: middle;\n",
       "    }\n",
       "\n",
       "    .dataframe tbody tr th {\n",
       "        vertical-align: top;\n",
       "    }\n",
       "\n",
       "    .dataframe thead th {\n",
       "        text-align: right;\n",
       "    }\n",
       "</style>\n",
       "<table border=\"1\" class=\"dataframe\">\n",
       "  <thead>\n",
       "    <tr style=\"text-align: right;\">\n",
       "      <th></th>\n",
       "      <th>parent_author</th>\n",
       "      <th>parents_id</th>\n",
       "      <th>parent_contains_imm</th>\n",
       "      <th>author</th>\n",
       "      <th>id</th>\n",
       "      <th>contains_imm</th>\n",
       "      <th>parent_id_mod</th>\n",
       "    </tr>\n",
       "  </thead>\n",
       "  <tbody>\n",
       "    <tr>\n",
       "      <th>0</th>\n",
       "      <td>bilsonM</td>\n",
       "      <td>cp0crhg</td>\n",
       "      <td>False</td>\n",
       "      <td>al_kohalik</td>\n",
       "      <td>cp0qro2</td>\n",
       "      <td>False</td>\n",
       "      <td>cp0crhg</td>\n",
       "    </tr>\n",
       "    <tr>\n",
       "      <th>1</th>\n",
       "      <td>bilsonM</td>\n",
       "      <td>cp0crhg</td>\n",
       "      <td>False</td>\n",
       "      <td>kikowatzy</td>\n",
       "      <td>cp0tl1h</td>\n",
       "      <td>False</td>\n",
       "      <td>cp0crhg</td>\n",
       "    </tr>\n",
       "    <tr>\n",
       "      <th>2</th>\n",
       "      <td>cpt_caveman</td>\n",
       "      <td>cp0cx5v</td>\n",
       "      <td>False</td>\n",
       "      <td>RealRepub</td>\n",
       "      <td>cp0jrhh</td>\n",
       "      <td>False</td>\n",
       "      <td>cp0cx5v</td>\n",
       "    </tr>\n",
       "    <tr>\n",
       "      <th>3</th>\n",
       "      <td>MrXhin</td>\n",
       "      <td>cp0cxy2</td>\n",
       "      <td>False</td>\n",
       "      <td>HalNavel</td>\n",
       "      <td>cp0krt4</td>\n",
       "      <td>False</td>\n",
       "      <td>cp0cxy2</td>\n",
       "    </tr>\n",
       "    <tr>\n",
       "      <th>4</th>\n",
       "      <td>MrXhin</td>\n",
       "      <td>cp0cxy2</td>\n",
       "      <td>False</td>\n",
       "      <td>Drewstom</td>\n",
       "      <td>cp0m19t</td>\n",
       "      <td>False</td>\n",
       "      <td>cp0cxy2</td>\n",
       "    </tr>\n",
       "    <tr>\n",
       "      <th>...</th>\n",
       "      <td>...</td>\n",
       "      <td>...</td>\n",
       "      <td>...</td>\n",
       "      <td>...</td>\n",
       "      <td>...</td>\n",
       "      <td>...</td>\n",
       "      <td>...</td>\n",
       "    </tr>\n",
       "    <tr>\n",
       "      <th>3554752</th>\n",
       "      <td>kode7</td>\n",
       "      <td>cp0cdzx</td>\n",
       "      <td>False</td>\n",
       "      <td>[deleted]</td>\n",
       "      <td>cp0cluq</td>\n",
       "      <td>False</td>\n",
       "      <td>cp0cdzx</td>\n",
       "    </tr>\n",
       "    <tr>\n",
       "      <th>3554753</th>\n",
       "      <td>ben1204</td>\n",
       "      <td>cp0cf9y</td>\n",
       "      <td>False</td>\n",
       "      <td>whatnowdog</td>\n",
       "      <td>cp0d0vz</td>\n",
       "      <td>False</td>\n",
       "      <td>cp0cf9y</td>\n",
       "    </tr>\n",
       "    <tr>\n",
       "      <th>3554754</th>\n",
       "      <td>[deleted]</td>\n",
       "      <td>cp0ci37</td>\n",
       "      <td>False</td>\n",
       "      <td>gtfooh1011</td>\n",
       "      <td>cp0csp8</td>\n",
       "      <td>False</td>\n",
       "      <td>cp0ci37</td>\n",
       "    </tr>\n",
       "    <tr>\n",
       "      <th>3554755</th>\n",
       "      <td>dangerjo</td>\n",
       "      <td>cp0clva</td>\n",
       "      <td>False</td>\n",
       "      <td>currentlydrinking</td>\n",
       "      <td>cp0exhe</td>\n",
       "      <td>False</td>\n",
       "      <td>cp0clva</td>\n",
       "    </tr>\n",
       "    <tr>\n",
       "      <th>3554756</th>\n",
       "      <td>MrXhin</td>\n",
       "      <td>cp0cmxr</td>\n",
       "      <td>False</td>\n",
       "      <td>dr3d</td>\n",
       "      <td>cp2ef9j</td>\n",
       "      <td>False</td>\n",
       "      <td>cp0cmxr</td>\n",
       "    </tr>\n",
       "  </tbody>\n",
       "</table>\n",
       "<p>3554757 rows × 7 columns</p>\n",
       "</div>"
      ],
      "text/plain": [
       "        parent_author parents_id  parent_contains_imm             author  \\\n",
       "0             bilsonM    cp0crhg                False         al_kohalik   \n",
       "1             bilsonM    cp0crhg                False          kikowatzy   \n",
       "2         cpt_caveman    cp0cx5v                False          RealRepub   \n",
       "3              MrXhin    cp0cxy2                False           HalNavel   \n",
       "4              MrXhin    cp0cxy2                False           Drewstom   \n",
       "...               ...        ...                  ...                ...   \n",
       "3554752         kode7    cp0cdzx                False          [deleted]   \n",
       "3554753       ben1204    cp0cf9y                False         whatnowdog   \n",
       "3554754     [deleted]    cp0ci37                False         gtfooh1011   \n",
       "3554755      dangerjo    cp0clva                False  currentlydrinking   \n",
       "3554756        MrXhin    cp0cmxr                False               dr3d   \n",
       "\n",
       "              id  contains_imm parent_id_mod  \n",
       "0        cp0qro2         False       cp0crhg  \n",
       "1        cp0tl1h         False       cp0crhg  \n",
       "2        cp0jrhh         False       cp0cx5v  \n",
       "3        cp0krt4         False       cp0cxy2  \n",
       "4        cp0m19t         False       cp0cxy2  \n",
       "...          ...           ...           ...  \n",
       "3554752  cp0cluq         False       cp0cdzx  \n",
       "3554753  cp0d0vz         False       cp0cf9y  \n",
       "3554754  cp0csp8         False       cp0ci37  \n",
       "3554755  cp0exhe         False       cp0clva  \n",
       "3554756  cp2ef9j         False       cp0cmxr  \n",
       "\n",
       "[3554757 rows x 7 columns]"
      ]
     },
     "metadata": {},
     "output_type": "display_data"
    }
   ],
   "source": [
    "display(matched_comments)"
   ]
  },
  {
   "cell_type": "code",
   "execution_count": 93,
   "metadata": {},
   "outputs": [],
   "source": [
    "# matched_comments.to_csv(\"stored_variables/matched_immigrant_comments.csv\", header=False, index=False)"
   ]
  },
  {
   "cell_type": "code",
   "execution_count": 95,
   "metadata": {},
   "outputs": [],
   "source": [
    "# matched_comments = pd.read_csv(\"stored_variables/matched_immigrant_comments.csv\", \n",
    "#                          header=None, \n",
    "#                          names = ['parent_author', 'parents_id', 'parent_contains_imm', \n",
    "#                                   'author', 'id', 'contains_imm', 'parent_id_mod'],\n",
    "#                          index_col = False\n",
    "#                          )"
   ]
  },
  {
   "cell_type": "code",
   "execution_count": 66,
   "metadata": {},
   "outputs": [
    {
     "data": {
      "text/plain": [
       "16297"
      ]
     },
     "execution_count": 66,
     "metadata": {},
     "output_type": "execute_result"
    }
   ],
   "source": [
    "np.sum(np.logical_and(np.logical_not(matched_comments['parent_contains_imm'].to_numpy()), \n",
    "               matched_comments['contains_imm'].to_numpy()))"
   ]
  },
  {
   "cell_type": "code",
   "execution_count": 67,
   "metadata": {},
   "outputs": [
    {
     "data": {
      "text/plain": [
       "6695"
      ]
     },
     "execution_count": 67,
     "metadata": {},
     "output_type": "execute_result"
    }
   ],
   "source": [
    "np.sum(np.logical_and(matched_comments['parent_contains_imm'].to_numpy(), \n",
    "               matched_comments['contains_imm'].to_numpy()))"
   ]
  },
  {
   "cell_type": "code",
   "execution_count": 68,
   "metadata": {},
   "outputs": [
    {
     "data": {
      "text/plain": [
       "28253"
      ]
     },
     "execution_count": 68,
     "metadata": {},
     "output_type": "execute_result"
    }
   ],
   "source": [
    "np.sum(np.logical_and(matched_comments['parent_contains_imm'].to_numpy(), \n",
    "               np.logical_not(matched_comments['contains_imm'].to_numpy())))"
   ]
  },
  {
   "cell_type": "code",
   "execution_count": 69,
   "metadata": {},
   "outputs": [
    {
     "data": {
      "text/plain": [
       "3503512"
      ]
     },
     "execution_count": 69,
     "metadata": {},
     "output_type": "execute_result"
    }
   ],
   "source": [
    "np.sum(np.logical_and(np.logical_not(matched_comments['parent_contains_imm'].to_numpy()), \n",
    "               np.logical_not(matched_comments['contains_imm'].to_numpy())))"
   ]
  },
  {
   "cell_type": "markdown",
   "metadata": {},
   "source": [
    "|| Parent contains 'immigrant' | Parent does not |\n",
    "|---|---|---|\n",
    "|Child contains 'immigrant'| 6695  | 16297  |\n",
    "|Child does not| 28253  | 3503512  |\n"
   ]
  },
  {
   "cell_type": "markdown",
   "metadata": {},
   "source": [
    "## Determine whether there is a difference between Trump supporters and others"
   ]
  },
  {
   "cell_type": "code",
   "execution_count": 74,
   "metadata": {},
   "outputs": [
    {
     "name": "stdout",
     "output_type": "stream",
     "text": [
      "67911\n",
      "0\n",
      "57124\n",
      "0\n"
     ]
    }
   ],
   "source": [
    "print(np.sum(matched_comments['parent_author'].values == '[deleted]'))\n",
    "print(np.sum(matched_comments['parent_author'].values == '[removed]'))\n",
    "print(np.sum(matched_comments['author'].values == '[deleted]'))\n",
    "print(np.sum(matched_comments['author'].values == '[removed]'))"
   ]
  },
  {
   "cell_type": "code",
   "execution_count": null,
   "metadata": {},
   "outputs": [],
   "source": []
  }
 ],
 "metadata": {
  "kernelspec": {
   "display_name": "Python 3",
   "language": "python",
   "name": "python3"
  },
  "language_info": {
   "codemirror_mode": {
    "name": "ipython",
    "version": 3
   },
   "file_extension": ".py",
   "mimetype": "text/x-python",
   "name": "python",
   "nbconvert_exporter": "python",
   "pygments_lexer": "ipython3",
   "version": "3.7.3"
  }
 },
 "nbformat": 4,
 "nbformat_minor": 2
}
